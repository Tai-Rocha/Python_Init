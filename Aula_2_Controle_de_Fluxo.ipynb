{
  "nbformat": 4,
  "nbformat_minor": 0,
  "metadata": {
    "colab": {
      "provenance": [],
      "include_colab_link": true
    },
    "kernelspec": {
      "name": "python3",
      "display_name": "Python 3"
    },
    "language_info": {
      "name": "python"
    }
  },
  "cells": [
    {
      "cell_type": "markdown",
      "metadata": {
        "id": "view-in-github",
        "colab_type": "text"
      },
      "source": [
        "<a href=\"https://colab.research.google.com/github/Tai-Rocha/Python_Init/blob/main/Aula_2_Controle_de_Fluxo.ipynb\" target=\"_parent\"><img src=\"https://colab.research.google.com/assets/colab-badge.svg\" alt=\"Open In Colab\"/></a>"
      ]
    },
    {
      "cell_type": "code",
      "source": [
        " "
      ],
      "metadata": {
        "id": "BaY1vM9GKwaq"
      },
      "execution_count": null,
      "outputs": []
    },
    {
      "cell_type": "markdown",
      "source": [
        "#Resumo da aula passada"
      ],
      "metadata": {
        "id": "Kl-HVRAqegQB"
      }
    },
    {
      "cell_type": "markdown",
      "source": [
        "* Conceito de Algoritmos\n",
        "* Falamos sobre algumas características do Python (é uma linguagem interpretada, orientada a objetos e de tipagem dinâmica)\n",
        "* Como programar em Python (comentários, nomenclatura, case sensitive, convenções -  nome composto)\n",
        "* Tipos de Dados\n",
        "* Operadores Aritiméticos\n",
        "* **Operadores lógicos**\n",
        "* Impressão na tela\n",
        "* Input\n",
        "* Casting\n",
        "* Exercícios\n"
      ],
      "metadata": {
        "id": "KWDmbLlgelSo"
      }
    },
    {
      "cell_type": "markdown",
      "source": [
        "#2ª Aula"
      ],
      "metadata": {
        "id": "KTLhkVDhgC4H"
      }
    },
    {
      "cell_type": "markdown",
      "source": [
        "##Controle de Fluxo e Operadores Lógicos"
      ],
      "metadata": {
        "id": "OM3Fw8w9gGsT"
      }
    },
    {
      "cell_type": "markdown",
      "source": [
        "As estruturas de controle de fluxo em programação são usadas para controlar o fluxo de execução do programa com base em condições ou eventos. Basicamente, essas estruturas permitem que o programa execute diferentes ações com base em determinadas situações."
      ],
      "metadata": {
        "id": "_v8-SXcwjS_e"
      }
    },
    {
      "cell_type": "markdown",
      "source": [
        "---\n",
        "\n",
        "![image.png](data:image/png;base64,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)\n",
        "\n",
        "---\n",
        "\n"
      ],
      "metadata": {
        "id": "Xp9ZAm9UlBbu"
      }
    },
    {
      "cell_type": "markdown",
      "source": [
        "O objetivo de controlar um fluxo pode variar bastante:\n",
        "* \"se a temperatura estiver acima de 30 graus Celsius, ligue o ar condicionado\"\n",
        "* \"enquanto a temperatura estiver acima de 25 graus Celsius, ligue o ventilador\"\n",
        "* \"para cada item na lista de compras, adicione o item ao carrinho de compras\"\n",
        "\n",
        "E como seria no Python?"
      ],
      "metadata": {
        "id": "qLOBHJHKlCM0"
      }
    },
    {
      "cell_type": "code",
      "source": [
        "#\"se a temperatura estiver acima de 30 graus Celsius, ligue o ar condicionado\"\n",
        "x = 31\n",
        "if x > 30:\n",
        "  print(\"Ligue o ar condicionado\")"
      ],
      "metadata": {
        "id": "O4h5GPO_l_TG",
        "colab": {
          "base_uri": "https://localhost:8080/"
        },
        "outputId": "8c1d85d4-59d7-4b77-bf28-1a7cf940b201"
      },
      "execution_count": null,
      "outputs": [
        {
          "output_type": "stream",
          "name": "stdout",
          "text": [
            "Ligue o ar condicionado\n"
          ]
        }
      ]
    },
    {
      "cell_type": "code",
      "source": [
        "#se a temperatura não estiver acima de 30 graus Celsius, não ligue o ar condicionado\"\n",
        "x = 29\n",
        "if x > 30:\n",
        "  print(\"Ligue o ar condicionado\")\n",
        "else:\n",
        "  print(\"Não ligue o ar condicionado\")"
      ],
      "metadata": {
        "id": "e3F8QWExmSkg",
        "colab": {
          "base_uri": "https://localhost:8080/"
        },
        "outputId": "616b1258-bcb9-4208-b961-3b25622589e6"
      },
      "execution_count": null,
      "outputs": [
        {
          "output_type": "stream",
          "name": "stdout",
          "text": [
            "Não ligue o ar condicionado\n"
          ]
        }
      ]
    },
    {
      "cell_type": "code",
      "source": [
        "#se a temperatura estiver entre 25 e 30 graus Celsius, ligue o ventilador\"\n",
        "x = int(input(\"Digite a temperatura: \"))\n",
        "if 25 <= x <= 30:\n",
        "    print(\"Ligue o ventilador\")\n",
        "elif x > 30:\n",
        "    print(\"Ligue o ar condicionado\")\n",
        "else:\n",
        "  print(\"Não ligue o ar condicionado\")"
      ],
      "metadata": {
        "id": "kznnDuUwnJba",
        "colab": {
          "base_uri": "https://localhost:8080/"
        },
        "outputId": "7dc50620-7ab9-44c8-fb06-caa7a17014e9"
      },
      "execution_count": null,
      "outputs": [
        {
          "output_type": "stream",
          "name": "stdout",
          "text": [
            "Digite a temperatura: 24\n",
            "Não ligue o ar condicionado\n"
          ]
        }
      ]
    },
    {
      "cell_type": "code",
      "execution_count": null,
      "metadata": {
        "id": "rcZ4uYYfc0O9",
        "colab": {
          "base_uri": "https://localhost:8080/"
        },
        "outputId": "eb66b970-b970-43c2-83f6-0d26a80e1f7a"
      },
      "outputs": [
        {
          "output_type": "stream",
          "name": "stdout",
          "text": [
            "Não ligue o ventilador\n",
            "20\n",
            "Não ligue o ventilador\n",
            "21\n",
            "Não ligue o ventilador\n",
            "22\n",
            "Não ligue o ventilador\n",
            "23\n",
            "Não ligue o ventilador\n",
            "24\n",
            "25 Agora podemos ligar o ventilador\n"
          ]
        }
      ],
      "source": [
        "#\"enquanto a temperatura estiver acima de 25 graus Celsius, ligue o ventilador\"\n",
        "x = 20\n",
        "while x < 25:\n",
        "  print(\"Não ligue o ventilador\")\n",
        "  print(x)\n",
        "  x += 1  \n",
        "print(x, \"Agora podemos ligar o ventilador\")"
      ]
    },
    {
      "cell_type": "code",
      "source": [
        "#\"para cada item na lista de compras, adicione o item ao carrinho de compras\"\n",
        "lista = ['trigo','leite','ovos','manteiga']\n",
        "carrinho = []\n",
        "print(\"Itens no carrinho: \",carrinho)\n",
        "for i in lista:\n",
        "  carrinho.append(i)\n",
        "  print(carrinho)\n",
        "print(\"Compras feitas: \",carrinho)\n"
      ],
      "metadata": {
        "id": "nPrlHMgBpbI5",
        "colab": {
          "base_uri": "https://localhost:8080/"
        },
        "outputId": "40d66428-8b36-418b-9d57-3352de902b42"
      },
      "execution_count": null,
      "outputs": [
        {
          "output_type": "stream",
          "name": "stdout",
          "text": [
            "Itens no carrinho:  []\n",
            "['trigo']\n",
            "['trigo', 'leite']\n",
            "['trigo', 'leite', 'ovos']\n",
            "['trigo', 'leite', 'ovos', 'manteiga']\n",
            "Compras feitas:  ['trigo', 'leite', 'ovos', 'manteiga']\n"
          ]
        }
      ]
    },
    {
      "cell_type": "markdown",
      "source": [
        "##Introdução às funções e sua definição em Python"
      ],
      "metadata": {
        "id": "0gKttb1fCyRQ"
      }
    },
    {
      "cell_type": "markdown",
      "source": [
        "As funções são blocos de código que contêm um conjunto específico de instruções que podem ser executadas várias vezes, com diferentes entradas e parâmetros. Elas permitem que você encapsule um comportamento específico em um bloco de código reutilizável e facilmente chamável, em vez de escrever o mesmo código repetidas vezes.\n",
        "\n",
        "Por exemplo, se você precisar multiplicar dois números várias vezes em um código, pode criar uma função para executar essa tarefa, e sempre que precisar multiplicar os dois números, basta chamar a função com os dois números como argumentos.\n",
        "\n",
        "As funções podem ser nativas ou criadas conforme a necessidade do programa"
      ],
      "metadata": {
        "id": "Q4WeSSpVE_-G"
      }
    },
    {
      "cell_type": "markdown",
      "source": [
        "###Funções nativas"
      ],
      "metadata": {
        "id": "JhIKU59HBgxx"
      }
    },
    {
      "cell_type": "code",
      "source": [
        "pi = 3.14159265358979323846\n",
        "round(pi,5)"
      ],
      "metadata": {
        "id": "I6ezfwphCGXi",
        "colab": {
          "base_uri": "https://localhost:8080/"
        },
        "outputId": "e6a77ead-346c-462d-a7d4-4c248954da93"
      },
      "execution_count": null,
      "outputs": [
        {
          "output_type": "execute_result",
          "data": {
            "text/plain": [
              "3.14159"
            ]
          },
          "metadata": {},
          "execution_count": 9
        }
      ]
    },
    {
      "cell_type": "markdown",
      "source": [
        "Lista de funções nativa na versão mais atual do Python:\n",
        "https://docs.python.org/pt-br/3/library/functions.html"
      ],
      "metadata": {
        "id": "tCfx0bbJXTTu"
      }
    },
    {
      "cell_type": "markdown",
      "source": [
        "###Funções criadas"
      ],
      "metadata": {
        "id": "brqOj51MCa6W"
      }
    },
    {
      "cell_type": "code",
      "source": [
        "#Função Multiplicar\n",
        "def multiplicar(x, y):\n",
        "    resultado = x * y\n",
        "    return resultado"
      ],
      "metadata": {
        "id": "12rZs4cTGL4V"
      },
      "execution_count": null,
      "outputs": []
    },
    {
      "cell_type": "code",
      "source": [
        "print(multiplicar(2,5))"
      ],
      "metadata": {
        "id": "T2YEVqU5GPat",
        "colab": {
          "base_uri": "https://localhost:8080/"
        },
        "outputId": "ca34a488-17f3-4116-af8b-16cbdd3bf465"
      },
      "execution_count": null,
      "outputs": [
        {
          "output_type": "stream",
          "name": "stdout",
          "text": [
            "10\n"
          ]
        }
      ]
    },
    {
      "cell_type": "markdown",
      "source": [
        "###Escopo de Variáveis"
      ],
      "metadata": {
        "id": "6LHua3zvHtU0"
      }
    },
    {
      "cell_type": "markdown",
      "source": [
        "Ao utilizar funções é preciso se atentar ao nível de definição de variável. Elas podem ser locais ou globais.\n",
        "\n",
        "* Locais: são aquelas que só existem dentro da função, sendo assim, só são reconhecidas no escopo da função\n",
        "* Globais: podem ser utilizadas em qualquer parte do código que será reconhecida. Por esse motivo devem ser evitadas. Um exemplo de exceções onde elas podem ser utilizadas, é no caso de constantes (valores de referência fixa que nunca mudam)."
      ],
      "metadata": {
        "id": "gEKZQs1pGVIR"
      }
    },
    {
      "cell_type": "code",
      "source": [
        "# Variável global\n",
        "x = 10\n",
        "\n",
        "def multiplica(y):\n",
        "    # Variável local\n",
        "    x = 5 #Redefinindo o valor de x\n",
        "    z = x * y\n",
        "    print(f'Dentro da função o valor de \"x\" é {x}')\n",
        "    return z\n",
        "\n",
        "resultado = multiplica(2)\n",
        "print(f'O resultado da multiplicação é {resultado}')\n",
        "\n",
        "print(f'O valor de \"x\" no escopo global ainda é {x}')"
      ],
      "metadata": {
        "colab": {
          "base_uri": "https://localhost:8080/"
        },
        "id": "8f0BDJdyHaaH",
        "outputId": "0f559ee2-db9e-480e-abf5-c5ad9590adbb"
      },
      "execution_count": null,
      "outputs": [
        {
          "output_type": "stream",
          "name": "stdout",
          "text": [
            "Dentro da função o valor de \"x\" é 5\n",
            "O resultado da multiplicação é 10\n",
            "O valor de \"x\" no escopo global ainda é 10\n"
          ]
        }
      ]
    },
    {
      "cell_type": "code",
      "source": [
        "# Variável global\n",
        "x = 10\n",
        "\n",
        "def soma(y):\n",
        "    # Variável local\n",
        "    z = x + y\n",
        "    print(f'Dentro da função o valor de \"x\" é {x}')\n",
        "    return z\n",
        "\n",
        "resultado = soma(5)\n",
        "print(f'O resultado da soma é {resultado}')"
      ],
      "metadata": {
        "id": "b0XKmCtrHmtk",
        "colab": {
          "base_uri": "https://localhost:8080/"
        },
        "outputId": "8a717e78-3f49-4798-bdd6-540452ac9ecf"
      },
      "execution_count": null,
      "outputs": [
        {
          "output_type": "stream",
          "name": "stdout",
          "text": [
            "Dentro da função o valor de \"x\" é 10\n",
            "O resultado da soma é 15\n"
          ]
        }
      ]
    },
    {
      "cell_type": "code",
      "source": [
        "x = 20\n",
        "\n",
        "print(f'O valor inicial de \"x\" no escopo global é {x}')\n",
        "\n",
        "def subtracao(y):\n",
        "  # alterando a variável global a partir de dentro da função\n",
        "  global x\n",
        "  x = 5\n",
        "  print(f'Agora o valor de \"x\" é {x}')\n",
        "  z = x - y\n",
        "  return z\n",
        "\n",
        "resultado = subtracao(2)\n",
        "\n",
        "print(f'No escopo global o valor de \"x\" também passou a ser {x}')\n",
        "\n",
        "print(f'E o resultado da subtração é {resultado}')\n"
      ],
      "metadata": {
        "colab": {
          "base_uri": "https://localhost:8080/"
        },
        "id": "7fGvLThk9PyT",
        "outputId": "399b39b7-bfa7-4733-f33d-e4e63a2f7b33"
      },
      "execution_count": null,
      "outputs": [
        {
          "output_type": "stream",
          "name": "stdout",
          "text": [
            "O valor inicial de \"x\" no escopo global é 20\n",
            "Agora o valor de \"x\" é 5\n",
            "No escopo global o valor de \"x\" também passou a ser 5\n",
            "E o resultado da subtração é 3\n"
          ]
        }
      ]
    },
    {
      "cell_type": "code",
      "source": [
        "# outro exemplo\n",
        "\n",
        "x = 20\n",
        "\n",
        "def soma(y,z):\n",
        "  x = y + z\n",
        "\n",
        "soma(2,3)\n",
        "print(f'O valor de x permanece {x}')\n",
        "\n",
        "def soma_2(y,z):\n",
        "  global x\n",
        "  x = y + z\n",
        "\n",
        "soma_2(2,3)\n",
        "print(f'O valor de x agora é {x}')\n"
      ],
      "metadata": {
        "colab": {
          "base_uri": "https://localhost:8080/"
        },
        "id": "WkMKlVp1DiH4",
        "outputId": "d00df2f6-4c73-4533-bbc8-a448195d6d0d"
      },
      "execution_count": null,
      "outputs": [
        {
          "output_type": "stream",
          "name": "stdout",
          "text": [
            "O valor de x permanece 20\n",
            "O valor de x agora é 5\n"
          ]
        }
      ]
    },
    {
      "cell_type": "markdown",
      "source": [
        "###Parâmetros de Funções"
      ],
      "metadata": {
        "id": "sul_tx8oHyNK"
      }
    },
    {
      "cell_type": "markdown",
      "source": [
        "Os parâmetros são valores que você pode passar para uma função quando a chama. Eles são usados para fornecer dados para a função processar.\n",
        "\n",
        "Existem dois tipos de parâmetros de função em Python: parâmetros posicionais e parâmetros com palavras-chave.\n"
      ],
      "metadata": {
        "id": "usYTR_q-Cmbp"
      }
    },
    {
      "cell_type": "markdown",
      "source": [
        "\n",
        "Os parâmetros posicionais são aqueles que são passados na mesma ordem em que são definidos na função. Por exemplo:"
      ],
      "metadata": {
        "id": "mX9A15FeYhRL"
      }
    },
    {
      "cell_type": "code",
      "source": [
        "def soma2(x, y):\n",
        "    resultado = x + y\n",
        "    return resultado\n",
        "\n",
        "resultado = soma2(3, 5)\n",
        "print(resultado)"
      ],
      "metadata": {
        "id": "jXXnJwmWYk0z",
        "colab": {
          "base_uri": "https://localhost:8080/"
        },
        "outputId": "ab8a5a7b-0c10-453c-bd40-90aa7da52828"
      },
      "execution_count": null,
      "outputs": [
        {
          "output_type": "stream",
          "name": "stdout",
          "text": [
            "8\n"
          ]
        }
      ]
    },
    {
      "cell_type": "markdown",
      "source": [
        "Os parâmetros com palavras-chave são aqueles que são passados com um nome de parâmetro específico. Eles permitem que você passe os argumentos em qualquer ordem e, portanto, tornam a chamada da função mais clara e legível. Por exemplo:"
      ],
      "metadata": {
        "id": "KLeHz8jCY43-"
      }
    },
    {
      "cell_type": "code",
      "source": [
        "def imprimir_nome(nome, sobrenome):\n",
        "    print(nome, sobrenome)\n",
        "\n",
        "imprimir_nome(sobrenome=\"Silva\", nome=\"João\")"
      ],
      "metadata": {
        "id": "k3t7gO6eY6s6",
        "colab": {
          "base_uri": "https://localhost:8080/"
        },
        "outputId": "6393ed4f-2c34-4da2-9023-070bf5c7ab8e"
      },
      "execution_count": null,
      "outputs": [
        {
          "output_type": "stream",
          "name": "stdout",
          "text": [
            "João Silva\n"
          ]
        }
      ]
    },
    {
      "cell_type": "markdown",
      "source": [
        "Os parâmetros de uma função podem ter valores padrão, o que significa que, se nenhum valor for passado para um determinado parâmetro, ele usará o valor padrão definido na função. Por exemplo:"
      ],
      "metadata": {
        "id": "yDDD32qfZMwc"
      }
    },
    {
      "cell_type": "code",
      "source": [
        "def imprimir_saudacao(nome, saudacao=\"Olá\"):\n",
        "    print(f\"{saudacao}, {nome}\")\n",
        "\n",
        "imprimir_saudacao(\"João\")\n",
        "imprimir_saudacao(\"Maria\", \"Oi\")\n"
      ],
      "metadata": {
        "id": "pQY2KC8_ZPDs",
        "colab": {
          "base_uri": "https://localhost:8080/"
        },
        "outputId": "57952ec6-2743-4b02-a333-2c152f6be624"
      },
      "execution_count": null,
      "outputs": [
        {
          "output_type": "stream",
          "name": "stdout",
          "text": [
            "Olá, João\n",
            "Oi, Maria\n"
          ]
        }
      ]
    },
    {
      "cell_type": "markdown",
      "source": [
        "###Hora de praticar!"
      ],
      "metadata": {
        "id": "pRNpR-P5zSl3"
      }
    },
    {
      "cell_type": "markdown",
      "source": [
        "Abaixo seguem alguns exercícios da plataforma Beecrowd que sugerimos para praticar os conceitos aprendidos na aula de hoje:\n",
        "\n",
        "Nível 1\n",
        "- [Números pares](https://www.beecrowd.com.br/judge/en/problems/view/1059)\n",
        "- [Crescente e decrescente](https://www.beecrowd.com.br/judge/en/problems/view/1113)\n",
        "\n",
        "Nível 2\n",
        "- [Aumento de salário](https://www.beecrowd.com.br/judge/en/problems/view/1048)\n",
        "- [Pedra, papel, ataque aéreo](https://www.beecrowd.com.br/judge/en/problems/view/2031)\n",
        "\n",
        "Nível 4\n",
        "- [Bem-Vindo ao Inverno!](https://www.beecrowd.com.br/judge/en/problems/view/1847)\n"
      ],
      "metadata": {
        "id": "y0BYK9AGzcbT"
      }
    },
    {
      "cell_type": "markdown",
      "source": [
        "**Números Pares (BeeCrowd)**\n",
        "\n",
        "Escreva um programa que imprima todos os números pares entre 1 e 100 (inclusive).\n",
        "\n",
        "Entrada:\n",
        "N/A\n",
        "\n",
        "Saída:\n",
        "Todos os números pares entre 1 e 100 (inclusive), um por linha:\n",
        "\n",
        "2\n",
        "\n",
        "4\n",
        "\n",
        "6\n",
        "\n",
        "...\n",
        "\n",
        "100"
      ],
      "metadata": {
        "id": "j45IZwU68kvJ"
      }
    },
    {
      "cell_type": "code",
      "source": [
        "for num in range(1,101):\n",
        "    if num % 2 == 0:\n",
        "        print(num)"
      ],
      "metadata": {
        "id": "VatKVZA7zbIi",
        "colab": {
          "base_uri": "https://localhost:8080/"
        },
        "outputId": "495f1f9f-6855-48db-d883-3000f21022ef"
      },
      "execution_count": null,
      "outputs": [
        {
          "output_type": "stream",
          "name": "stdout",
          "text": [
            "2\n",
            "4\n",
            "6\n",
            "8\n",
            "10\n",
            "12\n",
            "14\n",
            "16\n",
            "18\n",
            "20\n",
            "22\n",
            "24\n",
            "26\n",
            "28\n",
            "30\n",
            "32\n",
            "34\n",
            "36\n",
            "38\n",
            "40\n",
            "42\n",
            "44\n",
            "46\n",
            "48\n",
            "50\n",
            "52\n",
            "54\n",
            "56\n",
            "58\n",
            "60\n",
            "62\n",
            "64\n",
            "66\n",
            "68\n",
            "70\n",
            "72\n",
            "74\n",
            "76\n",
            "78\n",
            "80\n",
            "82\n",
            "84\n",
            "86\n",
            "88\n",
            "90\n",
            "92\n",
            "94\n",
            "96\n",
            "98\n",
            "100\n"
          ]
        }
      ]
    }
  ]
}